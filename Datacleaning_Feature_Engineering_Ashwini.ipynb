{
 "cells": [
  {
   "cell_type": "markdown",
   "id": "f8482f97-df73-4915-a4ee-771f339f4315",
   "metadata": {},
   "source": [
    "<h1 style=\"color: #FF5733;\">Data Cleaning & Pre-processing</h1>"
   ]
  },
  {
   "cell_type": "code",
   "execution_count": 23,
   "id": "e54996e6-778d-4330-bab2-fc23e1a28aa4",
   "metadata": {},
   "outputs": [],
   "source": [
    "#Import The DataSet And Necessary Libraries\n",
    "import os \n",
    "os.chdir (\"C:\\\\Users\\\\PC\\\\Desktop\")\n",
    "import pandas as pd\n",
    "df= pd.read_csv(\"C:\\\\Users\\\\PC\\\\Desktop\\\\Dataset_Uber Traffic.csv\")"
   ]
  },
  {
   "cell_type": "code",
   "execution_count": 27,
   "id": "c69ec452-c0d0-40c8-88ba-c7b304260e91",
   "metadata": {},
   "outputs": [
    {
     "data": {
      "text/html": [
       "<div>\n",
       "<style scoped>\n",
       "    .dataframe tbody tr th:only-of-type {\n",
       "        vertical-align: middle;\n",
       "    }\n",
       "\n",
       "    .dataframe tbody tr th {\n",
       "        vertical-align: top;\n",
       "    }\n",
       "\n",
       "    .dataframe thead th {\n",
       "        text-align: right;\n",
       "    }\n",
       "</style>\n",
       "<table border=\"1\" class=\"dataframe\">\n",
       "  <thead>\n",
       "    <tr style=\"text-align: right;\">\n",
       "      <th></th>\n",
       "      <th>DateTime</th>\n",
       "      <th>Junction</th>\n",
       "      <th>Vehicles</th>\n",
       "      <th>ID</th>\n",
       "    </tr>\n",
       "  </thead>\n",
       "  <tbody>\n",
       "    <tr>\n",
       "      <th>0</th>\n",
       "      <td>01/11/15 0:00</td>\n",
       "      <td>1</td>\n",
       "      <td>15</td>\n",
       "      <td>20151101001</td>\n",
       "    </tr>\n",
       "    <tr>\n",
       "      <th>1</th>\n",
       "      <td>01/11/15 1:00</td>\n",
       "      <td>1</td>\n",
       "      <td>13</td>\n",
       "      <td>20151101011</td>\n",
       "    </tr>\n",
       "    <tr>\n",
       "      <th>2</th>\n",
       "      <td>01/11/15 2:00</td>\n",
       "      <td>1</td>\n",
       "      <td>10</td>\n",
       "      <td>20151101021</td>\n",
       "    </tr>\n",
       "    <tr>\n",
       "      <th>3</th>\n",
       "      <td>01/11/15 3:00</td>\n",
       "      <td>1</td>\n",
       "      <td>7</td>\n",
       "      <td>20151101031</td>\n",
       "    </tr>\n",
       "    <tr>\n",
       "      <th>4</th>\n",
       "      <td>01/11/15 4:00</td>\n",
       "      <td>1</td>\n",
       "      <td>9</td>\n",
       "      <td>20151101041</td>\n",
       "    </tr>\n",
       "  </tbody>\n",
       "</table>\n",
       "</div>"
      ],
      "text/plain": [
       "        DateTime  Junction  Vehicles           ID\n",
       "0  01/11/15 0:00         1        15  20151101001\n",
       "1  01/11/15 1:00         1        13  20151101011\n",
       "2  01/11/15 2:00         1        10  20151101021\n",
       "3  01/11/15 3:00         1         7  20151101031\n",
       "4  01/11/15 4:00         1         9  20151101041"
      ]
     },
     "execution_count": 27,
     "metadata": {},
     "output_type": "execute_result"
    }
   ],
   "source": [
    "#Exploratory Data Analysis\n",
    "df.head()"
   ]
  },
  {
   "cell_type": "code",
   "execution_count": 29,
   "id": "53072835-6f50-4d3a-b777-cc6071ae1863",
   "metadata": {},
   "outputs": [
    {
     "data": {
      "text/html": [
       "<div>\n",
       "<style scoped>\n",
       "    .dataframe tbody tr th:only-of-type {\n",
       "        vertical-align: middle;\n",
       "    }\n",
       "\n",
       "    .dataframe tbody tr th {\n",
       "        vertical-align: top;\n",
       "    }\n",
       "\n",
       "    .dataframe thead th {\n",
       "        text-align: right;\n",
       "    }\n",
       "</style>\n",
       "<table border=\"1\" class=\"dataframe\">\n",
       "  <thead>\n",
       "    <tr style=\"text-align: right;\">\n",
       "      <th></th>\n",
       "      <th>Junction</th>\n",
       "      <th>Vehicles</th>\n",
       "      <th>ID</th>\n",
       "    </tr>\n",
       "  </thead>\n",
       "  <tbody>\n",
       "    <tr>\n",
       "      <th>count</th>\n",
       "      <td>48120.000000</td>\n",
       "      <td>48120.000000</td>\n",
       "      <td>4.812000e+04</td>\n",
       "    </tr>\n",
       "    <tr>\n",
       "      <th>mean</th>\n",
       "      <td>2.180549</td>\n",
       "      <td>22.791334</td>\n",
       "      <td>2.016330e+10</td>\n",
       "    </tr>\n",
       "    <tr>\n",
       "      <th>std</th>\n",
       "      <td>0.966955</td>\n",
       "      <td>20.750063</td>\n",
       "      <td>5.944854e+06</td>\n",
       "    </tr>\n",
       "    <tr>\n",
       "      <th>min</th>\n",
       "      <td>1.000000</td>\n",
       "      <td>1.000000</td>\n",
       "      <td>2.015110e+10</td>\n",
       "    </tr>\n",
       "    <tr>\n",
       "      <th>25%</th>\n",
       "      <td>1.000000</td>\n",
       "      <td>9.000000</td>\n",
       "      <td>2.016042e+10</td>\n",
       "    </tr>\n",
       "    <tr>\n",
       "      <th>50%</th>\n",
       "      <td>2.000000</td>\n",
       "      <td>15.000000</td>\n",
       "      <td>2.016093e+10</td>\n",
       "    </tr>\n",
       "    <tr>\n",
       "      <th>75%</th>\n",
       "      <td>3.000000</td>\n",
       "      <td>29.000000</td>\n",
       "      <td>2.017023e+10</td>\n",
       "    </tr>\n",
       "    <tr>\n",
       "      <th>max</th>\n",
       "      <td>4.000000</td>\n",
       "      <td>180.000000</td>\n",
       "      <td>2.017063e+10</td>\n",
       "    </tr>\n",
       "  </tbody>\n",
       "</table>\n",
       "</div>"
      ],
      "text/plain": [
       "           Junction      Vehicles            ID\n",
       "count  48120.000000  48120.000000  4.812000e+04\n",
       "mean       2.180549     22.791334  2.016330e+10\n",
       "std        0.966955     20.750063  5.944854e+06\n",
       "min        1.000000      1.000000  2.015110e+10\n",
       "25%        1.000000      9.000000  2.016042e+10\n",
       "50%        2.000000     15.000000  2.016093e+10\n",
       "75%        3.000000     29.000000  2.017023e+10\n",
       "max        4.000000    180.000000  2.017063e+10"
      ]
     },
     "execution_count": 29,
     "metadata": {},
     "output_type": "execute_result"
    }
   ],
   "source": [
    "#Summary statistics\n",
    "df.describe()"
   ]
  },
  {
   "cell_type": "code",
   "execution_count": 31,
   "id": "582e8b3a-d0eb-4e07-bf5f-0bd9b380f2c2",
   "metadata": {},
   "outputs": [
    {
     "name": "stdout",
     "output_type": "stream",
     "text": [
      "<class 'pandas.core.frame.DataFrame'>\n",
      "RangeIndex: 48120 entries, 0 to 48119\n",
      "Data columns (total 4 columns):\n",
      " #   Column    Non-Null Count  Dtype \n",
      "---  ------    --------------  ----- \n",
      " 0   DateTime  48120 non-null  object\n",
      " 1   Junction  48120 non-null  int64 \n",
      " 2   Vehicles  48120 non-null  int64 \n",
      " 3   ID        48120 non-null  int64 \n",
      "dtypes: int64(3), object(1)\n",
      "memory usage: 1.5+ MB\n"
     ]
    }
   ],
   "source": [
    "#Information about the dataset\n",
    "df.info()"
   ]
  },
  {
   "cell_type": "code",
   "execution_count": 33,
   "id": "2402e1af-bce0-4fa6-89ca-48c69b6f63d8",
   "metadata": {},
   "outputs": [
    {
     "data": {
      "text/plain": [
       "DateTime    0\n",
       "Junction    0\n",
       "Vehicles    0\n",
       "ID          0\n",
       "dtype: int64"
      ]
     },
     "execution_count": 33,
     "metadata": {},
     "output_type": "execute_result"
    }
   ],
   "source": [
    "#Check for missing values\n",
    "df.isnull().sum()"
   ]
  },
  {
   "cell_type": "markdown",
   "id": "ac0454ac-4455-4efc-aad6-f501bfd05775",
   "metadata": {},
   "source": [
    "**As we see their is no missing values in the data_set .so no need to handle the missing values.** "
   ]
  },
  {
   "cell_type": "code",
   "execution_count": 35,
   "id": "74a951ac-4ef6-4ce3-963d-9d0b398ca9d6",
   "metadata": {},
   "outputs": [
    {
     "data": {
      "text/plain": [
       "0"
      ]
     },
     "execution_count": 35,
     "metadata": {},
     "output_type": "execute_result"
    }
   ],
   "source": [
    "#Check For Duplicates Values\n",
    "df.duplicated().sum()"
   ]
  },
  {
   "cell_type": "markdown",
   "id": "2b6c862c-1fc4-413d-b126-e019ef61c6d7",
   "metadata": {},
   "source": [
    "**As we see their is no Duplicates values in the data_set .so no need to handle the Duplicates values..**"
   ]
  },
  {
   "cell_type": "code",
   "execution_count": 37,
   "id": "712c9534-688f-45b6-9271-5c0fe4de05e6",
   "metadata": {},
   "outputs": [],
   "source": [
    "#Convert DateTime Column to datetime formate\n",
    "df['DateTime'] = pd.to_datetime(df['DateTime'], format='%d/%m/%y %H:%M')"
   ]
  },
  {
   "cell_type": "code",
   "execution_count": 39,
   "id": "b124fdbd-c349-4e1e-abbc-cc69b9be1cbb",
   "metadata": {},
   "outputs": [
    {
     "data": {
      "text/html": [
       "<div>\n",
       "<style scoped>\n",
       "    .dataframe tbody tr th:only-of-type {\n",
       "        vertical-align: middle;\n",
       "    }\n",
       "\n",
       "    .dataframe tbody tr th {\n",
       "        vertical-align: top;\n",
       "    }\n",
       "\n",
       "    .dataframe thead th {\n",
       "        text-align: right;\n",
       "    }\n",
       "</style>\n",
       "<table border=\"1\" class=\"dataframe\">\n",
       "  <thead>\n",
       "    <tr style=\"text-align: right;\">\n",
       "      <th></th>\n",
       "      <th>DateTime</th>\n",
       "      <th>Junction</th>\n",
       "      <th>Vehicles</th>\n",
       "      <th>ID</th>\n",
       "    </tr>\n",
       "  </thead>\n",
       "  <tbody>\n",
       "    <tr>\n",
       "      <th>0</th>\n",
       "      <td>2015-11-01 00:00:00</td>\n",
       "      <td>1</td>\n",
       "      <td>15</td>\n",
       "      <td>20151101001</td>\n",
       "    </tr>\n",
       "    <tr>\n",
       "      <th>1</th>\n",
       "      <td>2015-11-01 01:00:00</td>\n",
       "      <td>1</td>\n",
       "      <td>13</td>\n",
       "      <td>20151101011</td>\n",
       "    </tr>\n",
       "    <tr>\n",
       "      <th>2</th>\n",
       "      <td>2015-11-01 02:00:00</td>\n",
       "      <td>1</td>\n",
       "      <td>10</td>\n",
       "      <td>20151101021</td>\n",
       "    </tr>\n",
       "    <tr>\n",
       "      <th>3</th>\n",
       "      <td>2015-11-01 03:00:00</td>\n",
       "      <td>1</td>\n",
       "      <td>7</td>\n",
       "      <td>20151101031</td>\n",
       "    </tr>\n",
       "    <tr>\n",
       "      <th>4</th>\n",
       "      <td>2015-11-01 04:00:00</td>\n",
       "      <td>1</td>\n",
       "      <td>9</td>\n",
       "      <td>20151101041</td>\n",
       "    </tr>\n",
       "    <tr>\n",
       "      <th>5</th>\n",
       "      <td>2015-11-01 05:00:00</td>\n",
       "      <td>1</td>\n",
       "      <td>6</td>\n",
       "      <td>20151101051</td>\n",
       "    </tr>\n",
       "    <tr>\n",
       "      <th>6</th>\n",
       "      <td>2015-11-01 06:00:00</td>\n",
       "      <td>1</td>\n",
       "      <td>9</td>\n",
       "      <td>20151101061</td>\n",
       "    </tr>\n",
       "    <tr>\n",
       "      <th>7</th>\n",
       "      <td>2015-11-01 07:00:00</td>\n",
       "      <td>1</td>\n",
       "      <td>8</td>\n",
       "      <td>20151101071</td>\n",
       "    </tr>\n",
       "    <tr>\n",
       "      <th>8</th>\n",
       "      <td>2015-11-01 08:00:00</td>\n",
       "      <td>1</td>\n",
       "      <td>11</td>\n",
       "      <td>20151101081</td>\n",
       "    </tr>\n",
       "    <tr>\n",
       "      <th>9</th>\n",
       "      <td>2015-11-01 09:00:00</td>\n",
       "      <td>1</td>\n",
       "      <td>12</td>\n",
       "      <td>20151101091</td>\n",
       "    </tr>\n",
       "  </tbody>\n",
       "</table>\n",
       "</div>"
      ],
      "text/plain": [
       "             DateTime  Junction  Vehicles           ID\n",
       "0 2015-11-01 00:00:00         1        15  20151101001\n",
       "1 2015-11-01 01:00:00         1        13  20151101011\n",
       "2 2015-11-01 02:00:00         1        10  20151101021\n",
       "3 2015-11-01 03:00:00         1         7  20151101031\n",
       "4 2015-11-01 04:00:00         1         9  20151101041\n",
       "5 2015-11-01 05:00:00         1         6  20151101051\n",
       "6 2015-11-01 06:00:00         1         9  20151101061\n",
       "7 2015-11-01 07:00:00         1         8  20151101071\n",
       "8 2015-11-01 08:00:00         1        11  20151101081\n",
       "9 2015-11-01 09:00:00         1        12  20151101091"
      ]
     },
     "execution_count": 39,
     "metadata": {},
     "output_type": "execute_result"
    }
   ],
   "source": [
    "df.head(10)"
   ]
  },
  {
   "cell_type": "code",
   "execution_count": 41,
   "id": "999de1c7-1b8a-44c1-ac85-cb0ea305386b",
   "metadata": {},
   "outputs": [
    {
     "data": {
      "text/html": [
       "<div>\n",
       "<style scoped>\n",
       "    .dataframe tbody tr th:only-of-type {\n",
       "        vertical-align: middle;\n",
       "    }\n",
       "\n",
       "    .dataframe tbody tr th {\n",
       "        vertical-align: top;\n",
       "    }\n",
       "\n",
       "    .dataframe thead th {\n",
       "        text-align: right;\n",
       "    }\n",
       "</style>\n",
       "<table border=\"1\" class=\"dataframe\">\n",
       "  <thead>\n",
       "    <tr style=\"text-align: right;\">\n",
       "      <th></th>\n",
       "      <th>DateTime</th>\n",
       "      <th>Junction</th>\n",
       "      <th>Vehicles</th>\n",
       "    </tr>\n",
       "  </thead>\n",
       "  <tbody>\n",
       "    <tr>\n",
       "      <th>0</th>\n",
       "      <td>2015-11-01 00:00:00</td>\n",
       "      <td>1</td>\n",
       "      <td>15</td>\n",
       "    </tr>\n",
       "    <tr>\n",
       "      <th>1</th>\n",
       "      <td>2015-11-01 00:00:00</td>\n",
       "      <td>2</td>\n",
       "      <td>6</td>\n",
       "    </tr>\n",
       "    <tr>\n",
       "      <th>2</th>\n",
       "      <td>2015-11-01 00:00:00</td>\n",
       "      <td>3</td>\n",
       "      <td>9</td>\n",
       "    </tr>\n",
       "    <tr>\n",
       "      <th>3</th>\n",
       "      <td>2015-11-01 01:00:00</td>\n",
       "      <td>1</td>\n",
       "      <td>13</td>\n",
       "    </tr>\n",
       "    <tr>\n",
       "      <th>4</th>\n",
       "      <td>2015-11-01 01:00:00</td>\n",
       "      <td>2</td>\n",
       "      <td>6</td>\n",
       "    </tr>\n",
       "  </tbody>\n",
       "</table>\n",
       "</div>"
      ],
      "text/plain": [
       "             DateTime  Junction  Vehicles\n",
       "0 2015-11-01 00:00:00         1        15\n",
       "1 2015-11-01 00:00:00         2         6\n",
       "2 2015-11-01 00:00:00         3         9\n",
       "3 2015-11-01 01:00:00         1        13\n",
       "4 2015-11-01 01:00:00         2         6"
      ]
     },
     "execution_count": 41,
     "metadata": {},
     "output_type": "execute_result"
    }
   ],
   "source": [
    "#Aggregate traffic data into hourly intervals\n",
    "df_hourly = df.groupby([pd.Grouper(key='DateTime', freq='h'), 'Junction']).agg({'Vehicles': 'sum'}).reset_index()\n",
    "df_hourly.rename(columns={'ID': 'Record_Count'}, inplace=True)\n",
    "df_hourly.head()"
   ]
  },
  {
   "cell_type": "code",
   "execution_count": 43,
   "id": "f1a78924-2512-49e7-9e98-abd0673e0b2d",
   "metadata": {},
   "outputs": [
    {
     "name": "stdout",
     "output_type": "stream",
     "text": [
      "             DateTime  Junction  Vehicles  Vehicles_Normalized\n",
      "0 2015-11-01 00:00:00         1        15             0.078212\n",
      "1 2015-11-01 00:00:00         2         6             0.027933\n",
      "2 2015-11-01 00:00:00         3         9             0.044693\n",
      "3 2015-11-01 01:00:00         1        13             0.067039\n",
      "4 2015-11-01 01:00:00         2         6             0.027933\n",
      "5 2015-11-01 01:00:00         3         7             0.033520\n",
      "6 2015-11-01 02:00:00         1        10             0.050279\n",
      "7 2015-11-01 02:00:00         2         5             0.022346\n",
      "8 2015-11-01 02:00:00         3         5             0.022346\n",
      "9 2015-11-01 03:00:00         1         7             0.033520\n",
      "             DateTime  Junction  Vehicles  Vehicles_Standardized\n",
      "0 2015-11-01 00:00:00         1        15              -0.375489\n",
      "1 2015-11-01 00:00:00         2         6              -0.809227\n",
      "2 2015-11-01 00:00:00         3         9              -0.664648\n",
      "3 2015-11-01 01:00:00         1        13              -0.471875\n",
      "4 2015-11-01 01:00:00         2         6              -0.809227\n",
      "5 2015-11-01 01:00:00         3         7              -0.761034\n",
      "6 2015-11-01 02:00:00         1        10              -0.616454\n",
      "7 2015-11-01 02:00:00         2         5              -0.857420\n",
      "8 2015-11-01 02:00:00         3         5              -0.857420\n",
      "9 2015-11-01 03:00:00         1         7              -0.761034\n"
     ]
    }
   ],
   "source": [
    "from sklearn.preprocessing import MinMaxScaler, StandardScaler\n",
    "# Create a copy of the DataFrame for processing\n",
    "df_normalized = df_hourly.copy()\n",
    "df_standardized = df_hourly.copy()\n",
    "\n",
    "### 1. Normalize Vehicles (0 to 1 range)\n",
    "scaler = MinMaxScaler()\n",
    "df_normalized['Vehicles_Normalized'] = scaler.fit_transform(df_hourly[['Vehicles']])\n",
    "\n",
    "### 2. Standardize Vehicles (Mean = 0, Std = 1)\n",
    "scaler = StandardScaler()\n",
    "df_standardized['Vehicles_Standardized'] = scaler.fit_transform(df_hourly[['Vehicles']])\n",
    "\n",
    "# Display the results\n",
    "print(df_normalized.head(10))\n",
    "print(df_standardized.head(10))"
   ]
  },
  {
   "cell_type": "markdown",
   "id": "44669d30-fdef-4940-b59c-e588b7add271",
   "metadata": {},
   "source": [
    "<mark>**Data Cleaning Summary:\n",
    "1 Missing Values: None found.\n",
    "2 Duplicates: None detected (and removed if present).\n",
    "3 DateTime Conversion: Successfully converted to datetime format.\n",
    "4 Aggregation: Data is now grouped by hourly intervals and junction with total vehicle counts.\n",
    "5 Normalisation and standardized the dataset**</mark>"
   ]
  },
  {
   "cell_type": "markdown",
   "id": "f5b3af73-7a71-4f4d-b2b6-e87e4cd30f5e",
   "metadata": {},
   "source": [
    "<h1 style=\"color: #FF5733;\">Feature Engineering and Selection</h1>"
   ]
  },
  {
   "cell_type": "markdown",
   "id": "f81ba8e2-f8e8-49bd-8dcb-99fb19b46e40",
   "metadata": {},
   "source": [
    "***1. Create new features from raw data***"
   ]
  },
  {
   "cell_type": "markdown",
   "id": "acc8de71-98a8-4ed6-8fe0-ac2807847338",
   "metadata": {},
   "source": [
    "**Generate time-based features such as hour of the day, day of the week, and month.\n",
    "Develop lag features by including traffic data from previous hours or days to capture temporal dependencies\n",
    "Create binary indicators for weekends and special events to account for their impact on traffic.**"
   ]
  },
  {
   "cell_type": "code",
   "execution_count": 45,
   "id": "19fdc8aa-adb1-4ed4-aa92-df6bccb049ec",
   "metadata": {},
   "outputs": [
    {
     "name": "stdout",
     "output_type": "stream",
     "text": [
      "Feature Importance:\n",
      " Lag_3        0.452506\n",
      "Month        0.136652\n",
      "Lag_2        0.133749\n",
      "Lag_1        0.120531\n",
      "Hour         0.080464\n",
      "DayOfWeek    0.045928\n",
      "IsWeekend    0.030171\n",
      "dtype: float64\n"
     ]
    },
    {
     "data": {
      "image/png": "[encoded data removed]",
      "text/plain": [
       "<Figure size 1000x600 with 1 Axes>"
      ]
     },
     "metadata": {},
     "output_type": "display_data"
    }
   ],
   "source": [
    "#import Necessary Libraries\n",
    "import numpy as np\n",
    "from sklearn.ensemble import RandomForestRegressor\n",
    "import matplotlib.pyplot as plt\n",
    "import seaborn as sns\n",
    "\n",
    "# Time-based features\n",
    "df_hourly['Hour'] = df_hourly['DateTime'].dt.hour\n",
    "df_hourly['DayOfWeek'] = df_hourly['DateTime'].dt.dayofweek  # 0 = Monday, 6 = Sunday\n",
    "df_hourly['Month'] = df_hourly['DateTime'].dt.month\n",
    "\n",
    "# Binary indicator for weekends (1 for weekend, 0 for weekday)\n",
    "df_hourly['IsWeekend'] =df_hourly['DayOfWeek'].apply(lambda x: 1 if x >= 5 else 0)\n",
    "\n",
    "# Lag features (traffic from previous 1, 2, and 3 hours)\n",
    "df_hourly['Lag_1'] = df_hourly['Vehicles'].shift(1)\n",
    "df_hourly['Lag_2'] = df_hourly['Vehicles'].shift(2)\n",
    "df_hourly['Lag_3'] = df_hourly['Vehicles'].shift(3)\n",
    "\n",
    "# Drop rows with NaN (due to lag feature creation)\n",
    "df_hourly.dropna(inplace=True)\n",
    "\n",
    "# Step 2: Evaluate Feature Importance\n",
    "\n",
    "# Prepare features and target\n",
    "X = df_hourly[['Hour', 'DayOfWeek', 'Month', 'IsWeekend', 'Lag_1', 'Lag_2', 'Lag_3']]\n",
    "y = df_hourly['Vehicles']\n",
    "\n",
    "# Train a Random Forest model for feature importance\n",
    "model = RandomForestRegressor(n_estimators=100, random_state=42)\n",
    "model.fit(X, y)\n",
    "\n",
    "# Get feature importance\n",
    "feature_importance = pd.Series(model.feature_importances_, index=X.columns).sort_values(ascending=False)\n",
    "\n",
    "# Display feature importance\n",
    "print(\"Feature Importance:\\n\", feature_importance)\n",
    "\n",
    "# Visualize feature importance\n",
    "plt.figure(figsize=(10, 6))\n",
    "sns.barplot(x=feature_importance.values, y=feature_importance.index)\n",
    "plt.title(\"Important Feature\")\n",
    "plt.xlabel(\"Importance\")\n",
    "plt.ylabel(\"Feature\")\n",
    "plt.show()\n"
   ]
  },
  {
   "cell_type": "code",
   "execution_count": null,
   "id": "c4699d5c-f41c-428b-8608-6b9fa84ad1aa",
   "metadata": {},
   "outputs": [],
   "source": []
  },
  {
   "cell_type": "markdown",
   "id": "89bdf945-55b1-4244-a08a-d03ad2244615",
   "metadata": {},
   "source": [
    "***2. Evaluate feature importance:***"
   ]
  },
  {
   "cell_type": "markdown",
   "id": "2722e8ca-f066-4cec-b8da-9f64423b27fe",
   "metadata": {},
   "source": [
    "***Statistical methods and machine learning techniques to assess the relevance of each feature.***"
   ]
  },
  {
   "cell_type": "code",
   "execution_count": 55,
   "id": "7b478425-f2ec-4f1b-b99f-7c6211db989a",
   "metadata": {},
   "outputs": [
    {
     "name": "stdout",
     "output_type": "stream",
     "text": [
      "Feature Correlation with Vehicles:\n",
      " Vehicles     1.000000\n",
      "Lag_3        0.320637\n",
      "DateTime     0.266205\n",
      "Hour         0.219896\n",
      "Month       -0.022670\n",
      "Lag_2       -0.041652\n",
      "Lag_1       -0.095621\n",
      "DayOfWeek   -0.125979\n",
      "IsWeekend   -0.150503\n",
      "Junction    -0.613810\n",
      "Name: Vehicles, dtype: float64\n"
     ]
    },
    {
     "data": {
      "image/png": "[encoded data removed]",
      "text/plain": [
       "<Figure size 1000x800 with 2 Axes>"
      ]
     },
     "metadata": {},
     "output_type": "display_data"
    }
   ],
   "source": [
    "from sklearn.ensemble import RandomForestRegressor\n",
    "from sklearn.preprocessing import StandardScaler\n",
    "from scipy.stats import chi2_contingency\n",
    "\n",
    "\n",
    "# Separate features (X) and target (y)\n",
    "X = df_hourly.drop(['Vehicles', 'DateTime'], axis=1)  # Features (assuming 'Vehicles' is the target)\n",
    "y = df_hourly['Vehicles']                             # Target variable (Vehicle count)\n",
    "\n",
    "### Step 1: Correlation Analysis (Numerical Features)\n",
    "# Compute correlation matrix\n",
    "correlation_matrix = df_hourly.corr()\n",
    "\n",
    "# Display correlation with target\n",
    "print(\"Feature Correlation with Vehicles:\\n\", correlation_matrix['Vehicles'].sort_values(ascending=False))\n",
    "\n",
    "# Visualize correlation heatmap\n",
    "plt.figure(figsize=(10, 8))\n",
    "sns.heatmap(correlation_matrix, annot=True, fmt='.2f', cmap='coolwarm')\n",
    "plt.title('Correlation Heatmap')\n",
    "plt.show()\n"
   ]
  },
  {
   "cell_type": "code",
   "execution_count": null,
   "id": "00c0f338-e651-44c2-9765-7ba646964c40",
   "metadata": {},
   "outputs": [],
   "source": []
  },
  {
   "cell_type": "markdown",
   "id": "2db28b45-ed25-405b-ba9e-34c615cf3e6e",
   "metadata": {},
   "source": [
    "***Random Forest Feature Importance***"
   ]
  },
  {
   "cell_type": "code",
   "execution_count": 67,
   "id": "9c9ebced-9983-49a2-9f89-e4ccba6e27df",
   "metadata": {},
   "outputs": [
    {
     "name": "stdout",
     "output_type": "stream",
     "text": [
      "\n",
      "Feature Importances:\n",
      " Junction     0.505680\n",
      "Lag_2        0.243692\n",
      "Lag_3        0.090492\n",
      "Lag_1        0.050026\n",
      "Hour         0.042534\n",
      "Month        0.037596\n",
      "DayOfWeek    0.019946\n",
      "IsWeekend    0.010034\n",
      "dtype: float64\n",
      "\n",
      "Selected Features (Importance > 0.05):\n",
      " ['Junction', 'Lag_1', 'Lag_2', 'Lag_3']\n"
     ]
    }
   ],
   "source": [
    "from sklearn.ensemble import RandomForestRegressor\n",
    "\n",
    "# Separate features and target\n",
    "X = df_hourly.drop(['Vehicles', 'DateTime'], axis=1)\n",
    "y = df_hourly['Vehicles']\n",
    "\n",
    "# Train Random Forest\n",
    "model = RandomForestRegressor(n_estimators=100, random_state=42)\n",
    "model.fit(X, y)\n",
    "\n",
    "# Display feature importance\n",
    "importances = pd.Series(model.feature_importances_, index=X.columns)\n",
    "print(\"\\nFeature Importances:\\n\", importances.sort_values(ascending=False))\n",
    "\n",
    "# Select features with importance > 0.05\n",
    "important_features = importances[importances > 0.05].index.tolist()\n",
    "print(\"\\nSelected Features (Importance > 0.05):\\n\", important_features)"
   ]
  },
  {
   "cell_type": "code",
   "execution_count": null,
   "id": "8f4ddbcc-6e1c-45dc-b787-8cd5433e1871",
   "metadata": {},
   "outputs": [],
   "source": []
  },
  {
   "cell_type": "markdown",
   "id": "bba988b5-e6ec-4373-b0b6-aa612a22b253",
   "metadata": {},
   "source": [
    "***Recursive Feature Elimination (RFE)***"
   ]
  },
  {
   "cell_type": "code",
   "execution_count": 73,
   "id": "5c4e6d5c-9eaf-4976-9093-68f832833672",
   "metadata": {},
   "outputs": [
    {
     "name": "stdout",
     "output_type": "stream",
     "text": [
      "\n",
      "Features selected by RFE:\n",
      " ['Junction', 'Hour', 'Lag_1', 'Lag_2', 'Lag_3']\n"
     ]
    }
   ],
   "source": [
    "from sklearn.feature_selection import RFE\n",
    "\n",
    "# Use Random Forest for feature elimination\n",
    "rfe = RFE(estimator=model, n_features_to_select=5)\n",
    "rfe.fit(X, y)\n",
    "\n",
    "# Get selected features\n",
    "rfe_selected_features = X.columns[rfe.support_]\n",
    "print(\"\\nFeatures selected by RFE:\\n\", rfe_selected_features.tolist())"
   ]
  },
  {
   "cell_type": "code",
   "execution_count": null,
   "id": "1261d255-7d22-44a7-823e-639b4a68d22b",
   "metadata": {},
   "outputs": [],
   "source": []
  },
  {
   "cell_type": "markdown",
   "id": "612f96fb-390b-4cbc-bd4e-3d9af7b846f3",
   "metadata": {},
   "source": [
    "***The most influential features for model training to improve efficiency and performance.***"
   ]
  },
  {
   "cell_type": "code",
   "execution_count": 59,
   "id": "752e1ab4-9631-482e-8bbd-bc97396c7553",
   "metadata": {},
   "outputs": [
    {
     "name": "stdout",
     "output_type": "stream",
     "text": [
      "Feature Importance:\n",
      " Junction    0.657751\n",
      "ID          0.342249\n",
      "dtype: float64\n",
      "\n",
      "Selected Features:\n",
      " ['Junction', 'ID']\n"
     ]
    }
   ],
   "source": [
    "from sklearn.ensemble import RandomForestRegressor\n",
    "X = df.drop(['Vehicles', 'DateTime'], axis=1)  # Features\n",
    "y = df['Vehicles']                             # Target (Vehicle count)\n",
    "\n",
    "# Train a Random Forest model\n",
    "model = RandomForestRegressor(n_estimators=100, random_state=42)\n",
    "model.fit(X, y)\n",
    "\n",
    "# Get feature importance\n",
    "feature_importance = pd.Series(model.feature_importances_, index=X.columns)\n",
    "print(\"Feature Importance:\\n\", feature_importance.sort_values(ascending=False))\n",
    "\n",
    "# Keep features with importance > 0.05\n",
    "important_features = feature_importance[feature_importance > 0.05].index\n",
    "print(\"\\nSelected Features:\\n\", important_features.tolist())\n",
    "\n"
   ]
  },
  {
   "cell_type": "code",
   "execution_count": null,
   "id": "310252d6-b03e-40cc-b6a8-5ce7432297f2",
   "metadata": {},
   "outputs": [],
   "source": []
  },
  {
   "cell_type": "markdown",
   "id": "1855c95f-c642-40dc-8735-b2c1e82e3934",
   "metadata": {},
   "source": [
    "<mark>***Summary of Feature Engineering:-1. created new features like hour of the day, day of the week etc. 2. Evaluated Feature Importance by using correlation heatmap / analysis. 3. Selected the Most Influential Features.***</mark>  "
   ]
  }
 ],
 "metadata": {
  "kernelspec": {
   "display_name": "Python 3 (ipykernel)",
   "language": "python",
   "name": "python3"
  },
  "language_info": {
   "codemirror_mode": {
    "name": "ipython",
    "version": 3
   },
   "file_extension": ".py",
   "mimetype": "text/x-python",
   "name": "python",
   "nbconvert_exporter": "python",
   "pygments_lexer": "ipython3",
   "version": "3.12.4"
  }
 },
 "nbformat": 4,
 "nbformat_minor": 5
}
