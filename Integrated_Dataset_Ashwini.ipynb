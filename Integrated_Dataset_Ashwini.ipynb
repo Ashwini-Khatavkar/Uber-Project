{
 "cells": [
  {
   "cell_type": "markdown",
   "id": "f60a1070-5991-4943-9132-1c94cf0a10c2",
   "metadata": {},
   "source": [
    "<mark>***Import the Files***<?mark>"
   ]
  },
  {
   "cell_type": "code",
   "execution_count": 3,
   "id": "3a578fe3-0cba-4107-b90b-904c70f18cd4",
   "metadata": {},
   "outputs": [],
   "source": [
    "import pandas as pd\n",
    "\n",
    "# Load the datasets\n",
    "W_df = pd.read_csv(\"C:\\\\Users\\\\PC\\\\Desktop\\\\Delhi _weather_data.csv\")\n",
    "H_df = pd.read_csv(\"C:\\\\Users\\\\PC\\\\Desktop\\\\Holiday_calendar.csv\")\n",
    "T_df = pd.read_csv(\"C:\\\\Users\\\\PC\\\\Desktop\\\\Dataset_Uber_Traffic.csv\")\n"
   ]
  },
  {
   "cell_type": "markdown",
   "id": "e250fed8-f495-4efb-b9fe-260b8d6ff4e7",
   "metadata": {},
   "source": [
    "<mark>***Basic Cleaning Before Merging***</mark>"
   ]
  },
  {
   "cell_type": "markdown",
   "id": "e65f62d3-875b-4231-bd9a-81f8dd80262d",
   "metadata": {},
   "source": [
    "***Convert Date Columns to Standard Format***"
   ]
  },
  {
   "cell_type": "code",
   "execution_count": 6,
   "id": "56d9b4f3-d44c-432e-9fb1-b343943f6c41",
   "metadata": {},
   "outputs": [],
   "source": [
    "# Convert weather dataset datetime column\n",
    "W_df['datetime'] = pd.to_datetime(W_df['datetime'], format='%d-%m-%Y')\n",
    "\n",
    "# Convert holiday dataset date column\n",
    "H_df['Date'] = pd.to_datetime(H_df['Date'], format='%d-%m-%Y')\n",
    "\n",
    "# Convert traffic dataset DateTime column\n",
    "T_df['DateTime'] = pd.to_datetime(T_df['DateTime'], format='%d/%m/%y %H:%M')\n",
    "\n",
    "# Extract only the date from traffic and weather datasets for merging\n",
    "T_df['Date'] = T_df['DateTime'].dt.date\n",
    "W_df['Date'] = W_df['datetime'].dt.date\n"
   ]
  },
  {
   "cell_type": "markdown",
   "id": "bd9e18ce-47a3-45a1-85ed-a17af778fa47",
   "metadata": {},
   "source": [
    "***Handle Missing Values (Before Merging)***"
   ]
  },
  {
   "cell_type": "code",
   "execution_count": 9,
   "id": "1b024c6e-c422-4e37-ade8-ffd801841668",
   "metadata": {},
   "outputs": [],
   "source": [
    "# Fill missing values safely\n",
    "W_df.loc[:, 'preciptype'] = W_df['preciptype'].fillna(\"None\")\n",
    "\n",
    "# Drop 'severerisk' column safely\n",
    "if 'severerisk' in W_df.columns:\n",
    "    W_df = W_df.drop(columns=['severerisk'])\n",
    "\n",
    "# Remove duplicates safely\n",
    "W_df = W_df.drop_duplicates()\n",
    "H_df = H_df.drop_duplicates()\n",
    "T_df = T_df.drop_duplicates()\n"
   ]
  },
  {
   "cell_type": "markdown",
   "id": "bdfb9f22-a489-4a95-b8a8-4946e40dcf05",
   "metadata": {},
   "source": [
    "<mark>***Merge the Datasets***</mark>"
   ]
  },
  {
   "cell_type": "markdown",
   "id": "9f9f885a-4d97-4dd1-809e-499233b823c3",
   "metadata": {},
   "source": [
    "***Merge Traffic & Weather Data***"
   ]
  },
  {
   "cell_type": "code",
   "execution_count": 14,
   "id": "60b65653-da76-409e-b5c5-6542c9bf96da",
   "metadata": {},
   "outputs": [],
   "source": [
    "merged_df = pd.merge(T_df, W_df, on='Date', how='left')\n"
   ]
  },
  {
   "cell_type": "markdown",
   "id": "a5e16786-fc33-4adc-a359-8ebac20dea35",
   "metadata": {},
   "source": [
    "***Merge Holiday Data***"
   ]
  },
  {
   "cell_type": "code",
   "execution_count": 17,
   "id": "0d0a5cdd-559d-43e8-9410-bcc9c44f8bce",
   "metadata": {},
   "outputs": [],
   "source": [
    "# Convert 'Date' column in merged dataset to datetime before merging\n",
    "merged_df['Date'] = pd.to_datetime(merged_df['Date'])\n",
    "\n",
    "# Merge with holiday dataset\n",
    "merged_df = pd.merge(merged_df, H_df, on='Date', how='left')\n"
   ]
  },
  {
   "cell_type": "markdown",
   "id": "264aa09d-31c1-48ca-a4b5-bd34a4d5bfc2",
   "metadata": {},
   "source": [
    "<mark>***Final Cleaning After Merging***</mark>"
   ]
  },
  {
   "cell_type": "markdown",
   "id": "1a53c0c4-3238-4a44-98ff-a85872716b5a",
   "metadata": {},
   "source": [
    "***Check for Missing Values***"
   ]
  },
  {
   "cell_type": "code",
   "execution_count": 21,
   "id": "51cf36a3-60c2-4953-b6ff-aac27878be5a",
   "metadata": {},
   "outputs": [
    {
     "name": "stdout",
     "output_type": "stream",
     "text": [
      "DateTime                0\n",
      "Junction                0\n",
      "Vehicles                0\n",
      "ID                      0\n",
      "Date                    0\n",
      "name                    0\n",
      "datetime                0\n",
      "tempmax                 0\n",
      "tempmin                 0\n",
      "temp                    0\n",
      "feelslikemax            0\n",
      "feelslikemin            0\n",
      "feelslike               0\n",
      "dew                     0\n",
      "humidity                0\n",
      "precip                  0\n",
      "precipprob              0\n",
      "precipcover             0\n",
      "preciptype              0\n",
      "snow                    0\n",
      "snowdepth               0\n",
      "windgust                0\n",
      "windspeed               0\n",
      "winddir                 0\n",
      "sealevelpressure        0\n",
      "cloudcover              0\n",
      "visibility              0\n",
      "solarradiation          0\n",
      "solarenergy             0\n",
      "uvindex                 0\n",
      "sunrise                 0\n",
      "sunset                  0\n",
      "moonphase               0\n",
      "conditions              0\n",
      "description             0\n",
      "icon                    0\n",
      "stations                0\n",
      "Holiday             45360\n",
      "dtype: int64\n"
     ]
    }
   ],
   "source": [
    "print(merged_df.isnull().sum())  # Check missing values\n"
   ]
  },
  {
   "cell_type": "markdown",
   "id": "ed5e6e76-8411-4bb0-9a70-d0f527ee09a8",
   "metadata": {},
   "source": [
    "***Fill or Drop Missing Values***"
   ]
  },
  {
   "cell_type": "code",
   "execution_count": 24,
   "id": "03c05a7c-80f6-4ad4-8a8f-1708eb628b4d",
   "metadata": {},
   "outputs": [],
   "source": [
    "# Fill missing values safely\n",
    "merged_df = merged_df.assign(Holiday=merged_df['Holiday'].fillna(\"No Holiday\"))\n",
    "\n",
    "# Use ffill() correctly\n",
    "merged_df = merged_df.ffill()  # Forward fill missing values\n"
   ]
  },
  {
   "cell_type": "markdown",
   "id": "cc07dbb1-e66d-4d34-8742-5b523c61e4b7",
   "metadata": {},
   "source": [
    "<mark>***Final Data Verification***</mark>"
   ]
  },
  {
   "cell_type": "code",
   "execution_count": 27,
   "id": "6f773550-786c-4e55-884d-1995ea4329ef",
   "metadata": {},
   "outputs": [
    {
     "name": "stdout",
     "output_type": "stream",
     "text": [
      "             DateTime  Junction  Vehicles           ID       Date   name  \\\n",
      "0 2015-11-01 00:00:00         1        15  20151101001 2015-11-01  Delhi   \n",
      "1 2015-11-01 01:00:00         1        13  20151101011 2015-11-01  Delhi   \n",
      "2 2015-11-01 02:00:00         1        10  20151101021 2015-11-01  Delhi   \n",
      "3 2015-11-01 03:00:00         1         7  20151101031 2015-11-01  Delhi   \n",
      "4 2015-11-01 04:00:00         1         9  20151101041 2015-11-01  Delhi   \n",
      "\n",
      "    datetime  tempmax  tempmin  temp  ...  solarenergy  uvindex  \\\n",
      "0 2015-11-01     30.2     17.7  23.5  ...         17.2        7   \n",
      "1 2015-11-01     30.2     17.7  23.5  ...         17.2        7   \n",
      "2 2015-11-01     30.2     17.7  23.5  ...         17.2        7   \n",
      "3 2015-11-01     30.2     17.7  23.5  ...         17.2        7   \n",
      "4 2015-11-01     30.2     17.7  23.5  ...         17.2        7   \n",
      "\n",
      "               sunrise               sunset  moonphase  conditions  \\\n",
      "0  2015-11-01T06:32:39  2015-11-01T17:36:22       0.66       Clear   \n",
      "1  2015-11-01T06:32:39  2015-11-01T17:36:22       0.66       Clear   \n",
      "2  2015-11-01T06:32:39  2015-11-01T17:36:22       0.66       Clear   \n",
      "3  2015-11-01T06:32:39  2015-11-01T17:36:22       0.66       Clear   \n",
      "4  2015-11-01T06:32:39  2015-11-01T17:36:22       0.66       Clear   \n",
      "\n",
      "                            description       icon  \\\n",
      "0  Clear conditions throughout the day.  clear-day   \n",
      "1  Clear conditions throughout the day.  clear-day   \n",
      "2  Clear conditions throughout the day.  clear-day   \n",
      "3  Clear conditions throughout the day.  clear-day   \n",
      "4  Clear conditions throughout the day.  clear-day   \n",
      "\n",
      "                              stations     Holiday  \n",
      "0  42182099999,VIDP,42181099999,remote  No Holiday  \n",
      "1  42182099999,VIDP,42181099999,remote  No Holiday  \n",
      "2  42182099999,VIDP,42181099999,remote  No Holiday  \n",
      "3  42182099999,VIDP,42181099999,remote  No Holiday  \n",
      "4  42182099999,VIDP,42181099999,remote  No Holiday  \n",
      "\n",
      "[5 rows x 38 columns]\n",
      "<class 'pandas.core.frame.DataFrame'>\n",
      "RangeIndex: 48120 entries, 0 to 48119\n",
      "Data columns (total 38 columns):\n",
      " #   Column            Non-Null Count  Dtype         \n",
      "---  ------            --------------  -----         \n",
      " 0   DateTime          48120 non-null  datetime64[ns]\n",
      " 1   Junction          48120 non-null  int64         \n",
      " 2   Vehicles          48120 non-null  int64         \n",
      " 3   ID                48120 non-null  int64         \n",
      " 4   Date              48120 non-null  datetime64[ns]\n",
      " 5   name              48120 non-null  object        \n",
      " 6   datetime          48120 non-null  datetime64[ns]\n",
      " 7   tempmax           48120 non-null  float64       \n",
      " 8   tempmin           48120 non-null  float64       \n",
      " 9   temp              48120 non-null  float64       \n",
      " 10  feelslikemax      48120 non-null  float64       \n",
      " 11  feelslikemin      48120 non-null  float64       \n",
      " 12  feelslike         48120 non-null  float64       \n",
      " 13  dew               48120 non-null  float64       \n",
      " 14  humidity          48120 non-null  float64       \n",
      " 15  precip            48120 non-null  float64       \n",
      " 16  precipprob        48120 non-null  int64         \n",
      " 17  precipcover       48120 non-null  float64       \n",
      " 18  preciptype        48120 non-null  object        \n",
      " 19  snow              48120 non-null  int64         \n",
      " 20  snowdepth         48120 non-null  int64         \n",
      " 21  windgust          48120 non-null  float64       \n",
      " 22  windspeed         48120 non-null  float64       \n",
      " 23  winddir           48120 non-null  float64       \n",
      " 24  sealevelpressure  48120 non-null  float64       \n",
      " 25  cloudcover        48120 non-null  float64       \n",
      " 26  visibility        48120 non-null  float64       \n",
      " 27  solarradiation    48120 non-null  float64       \n",
      " 28  solarenergy       48120 non-null  float64       \n",
      " 29  uvindex           48120 non-null  int64         \n",
      " 30  sunrise           48120 non-null  object        \n",
      " 31  sunset            48120 non-null  object        \n",
      " 32  moonphase         48120 non-null  float64       \n",
      " 33  conditions        48120 non-null  object        \n",
      " 34  description       48120 non-null  object        \n",
      " 35  icon              48120 non-null  object        \n",
      " 36  stations          48120 non-null  object        \n",
      " 37  Holiday           48120 non-null  object        \n",
      "dtypes: datetime64[ns](3), float64(19), int64(7), object(9)\n",
      "memory usage: 14.0+ MB\n",
      "None\n"
     ]
    }
   ],
   "source": [
    "print(merged_df.head())  # Check the first few rows\n",
    "print(merged_df.info())  # Check data types and missing values\n"
   ]
  },
  {
   "cell_type": "markdown",
   "id": "cf95cba1-b02f-4f4b-9493-67c8a4d73891",
   "metadata": {},
   "source": [
    "<mark>***Handle data quality issues***</mark>"
   ]
  },
  {
   "cell_type": "markdown",
   "id": "b2d96355-d08f-4d5d-942c-148c26f9e544",
   "metadata": {},
   "source": [
    "***Remove Duplicates***"
   ]
  },
  {
   "cell_type": "code",
   "execution_count": 31,
   "id": "4955b856-af3e-4f19-ac28-d782ee89736a",
   "metadata": {},
   "outputs": [],
   "source": [
    "# Remove duplicates from the merged dataset\n",
    "merged_df = merged_df.drop_duplicates()\n"
   ]
  },
  {
   "cell_type": "markdown",
   "id": "da03042b-0091-4607-9e51-d3b724313b06",
   "metadata": {},
   "source": [
    "***Handle Missing Values (Imputation or Removal)***"
   ]
  },
  {
   "cell_type": "code",
   "execution_count": 34,
   "id": "a668c0fd-df70-4864-90cf-44b23c05f868",
   "metadata": {},
   "outputs": [
    {
     "name": "stdout",
     "output_type": "stream",
     "text": [
      "DateTime            0\n",
      "Junction            0\n",
      "Vehicles            0\n",
      "ID                  0\n",
      "Date                0\n",
      "name                0\n",
      "datetime            0\n",
      "tempmax             0\n",
      "tempmin             0\n",
      "temp                0\n",
      "feelslikemax        0\n",
      "feelslikemin        0\n",
      "feelslike           0\n",
      "dew                 0\n",
      "humidity            0\n",
      "precip              0\n",
      "precipprob          0\n",
      "precipcover         0\n",
      "preciptype          0\n",
      "snow                0\n",
      "snowdepth           0\n",
      "windgust            0\n",
      "windspeed           0\n",
      "winddir             0\n",
      "sealevelpressure    0\n",
      "cloudcover          0\n",
      "visibility          0\n",
      "solarradiation      0\n",
      "solarenergy         0\n",
      "uvindex             0\n",
      "sunrise             0\n",
      "sunset              0\n",
      "moonphase           0\n",
      "conditions          0\n",
      "description         0\n",
      "icon                0\n",
      "stations            0\n",
      "Holiday             0\n",
      "dtype: int64\n"
     ]
    }
   ],
   "source": [
    "print(merged_df.isnull().sum())  # Display missing values\n"
   ]
  },
  {
   "cell_type": "markdown",
   "id": "18ba59c2-e32f-49da-b87f-1ccabfc6b381",
   "metadata": {},
   "source": [
    "***Correct Data Inconsistencies***"
   ]
  },
  {
   "cell_type": "code",
   "execution_count": 37,
   "id": "ec232c1c-e470-4537-9e67-b919df0ed499",
   "metadata": {},
   "outputs": [],
   "source": [
    "#Convert Date Columns to Consistent Format\n",
    "merged_df['Date'] = pd.to_datetime(merged_df['Date'])\n"
   ]
  },
  {
   "cell_type": "code",
   "execution_count": 39,
   "id": "3f63bc52-7bb7-4abe-bd1d-5db5170779cb",
   "metadata": {},
   "outputs": [],
   "source": [
    "#Fix Temperature Anomalies\n",
    "merged_df = merged_df[(merged_df['temp'] >= -10) & (merged_df['temp'] <= 50)]\n"
   ]
  },
  {
   "cell_type": "markdown",
   "id": "6770b54f-69f7-4229-bea8-46a5b3c5dc11",
   "metadata": {},
   "source": [
    "<mark>***Normalize or Standardize Data***</mark>"
   ]
  },
  {
   "cell_type": "markdown",
   "id": "5ae300c3-6dab-4ece-8f5e-545574d5f2f5",
   "metadata": {},
   "source": [
    "***Normalize Data (Rescale to 0-1)***"
   ]
  },
  {
   "cell_type": "code",
   "execution_count": 43,
   "id": "2bbd7b84-7922-46ea-b221-c7342c90b238",
   "metadata": {},
   "outputs": [],
   "source": [
    "from sklearn.preprocessing import MinMaxScaler\n",
    "\n",
    "scaler = MinMaxScaler()\n",
    "merged_df[['temp', 'humidity', 'windspeed']] = scaler.fit_transform(merged_df[['temp', 'humidity', 'windspeed']])\n"
   ]
  },
  {
   "cell_type": "markdown",
   "id": "fd7d73d2-07f8-4980-be7d-6c5fe2b9b9db",
   "metadata": {},
   "source": [
    "***Standardize Data (Mean = 0, Std = 1)***"
   ]
  },
  {
   "cell_type": "code",
   "execution_count": 46,
   "id": "22e0de18-d448-4ff3-924b-464f19cf5800",
   "metadata": {},
   "outputs": [],
   "source": [
    "from sklearn.preprocessing import StandardScaler\n",
    "\n",
    "scaler = StandardScaler()\n",
    "merged_df[['temp', 'humidity', 'windspeed']] = scaler.fit_transform(merged_df[['temp', 'humidity', 'windspeed']])\n"
   ]
  },
  {
   "cell_type": "markdown",
   "id": "6872c94e-dee5-4974-a3ba-c94c51d93559",
   "metadata": {},
   "source": [
    "<mark>***Final Data Check***</mark>"
   ]
  },
  {
   "cell_type": "code",
   "execution_count": 82,
   "id": "ce2f49d1-dc31-4c54-8601-8e981f69cb53",
   "metadata": {},
   "outputs": [
    {
     "name": "stdout",
     "output_type": "stream",
     "text": [
      "<class 'pandas.core.frame.DataFrame'>\n",
      "RangeIndex: 48120 entries, 0 to 48119\n",
      "Data columns (total 38 columns):\n",
      " #   Column            Non-Null Count  Dtype         \n",
      "---  ------            --------------  -----         \n",
      " 0   DateTime          48120 non-null  datetime64[ns]\n",
      " 1   Junction          48120 non-null  int64         \n",
      " 2   Vehicles          48120 non-null  int64         \n",
      " 3   ID                48120 non-null  int64         \n",
      " 4   Date              48120 non-null  datetime64[ns]\n",
      " 5   name              48120 non-null  object        \n",
      " 6   datetime          48120 non-null  datetime64[ns]\n",
      " 7   tempmax           48120 non-null  float64       \n",
      " 8   tempmin           48120 non-null  float64       \n",
      " 9   temp              48120 non-null  float64       \n",
      " 10  feelslikemax      48120 non-null  float64       \n",
      " 11  feelslikemin      48120 non-null  float64       \n",
      " 12  feelslike         48120 non-null  float64       \n",
      " 13  dew               48120 non-null  float64       \n",
      " 14  humidity          48120 non-null  float64       \n",
      " 15  precip            48120 non-null  float64       \n",
      " 16  precipprob        48120 non-null  int64         \n",
      " 17  precipcover       48120 non-null  float64       \n",
      " 18  preciptype        48120 non-null  object        \n",
      " 19  snow              48120 non-null  int64         \n",
      " 20  snowdepth         48120 non-null  int64         \n",
      " 21  windgust          48120 non-null  float64       \n",
      " 22  windspeed         48120 non-null  float64       \n",
      " 23  winddir           48120 non-null  float64       \n",
      " 24  sealevelpressure  48120 non-null  float64       \n",
      " 25  cloudcover        48120 non-null  float64       \n",
      " 26  visibility        48120 non-null  float64       \n",
      " 27  solarradiation    48120 non-null  float64       \n",
      " 28  solarenergy       48120 non-null  float64       \n",
      " 29  uvindex           48120 non-null  int64         \n",
      " 30  sunrise           48120 non-null  object        \n",
      " 31  sunset            48120 non-null  object        \n",
      " 32  moonphase         48120 non-null  float64       \n",
      " 33  conditions        48120 non-null  object        \n",
      " 34  description       48120 non-null  object        \n",
      " 35  icon              48120 non-null  object        \n",
      " 36  stations          48120 non-null  object        \n",
      " 37  Holiday           48120 non-null  object        \n",
      "dtypes: datetime64[ns](3), float64(19), int64(7), object(9)\n",
      "memory usage: 14.0+ MB\n",
      "None\n",
      "                            DateTime      Junction      Vehicles  \\\n",
      "count                          48120  48120.000000  48120.000000   \n",
      "mean   2016-09-19 06:03:56.109725696      2.180549     22.791334   \n",
      "min              2015-11-01 00:00:00      1.000000      1.000000   \n",
      "25%              2016-04-16 01:45:00      1.000000      9.000000   \n",
      "50%              2016-09-30 03:30:00      2.000000     15.000000   \n",
      "75%              2017-02-25 16:00:00      3.000000     29.000000   \n",
      "max              2017-06-30 23:00:00      4.000000    180.000000   \n",
      "std                              NaN      0.966955     20.750063   \n",
      "\n",
      "                 ID                           Date  \\\n",
      "count  4.812000e+04                          48120   \n",
      "mean   2.016330e+10  2016-09-18 18:33:56.109725696   \n",
      "min    2.015110e+10            2015-11-01 00:00:00   \n",
      "25%    2.016042e+10            2016-04-16 00:00:00   \n",
      "50%    2.016093e+10            2016-09-30 00:00:00   \n",
      "75%    2.017023e+10            2017-02-25 00:00:00   \n",
      "max    2.017063e+10            2017-06-30 00:00:00   \n",
      "std    5.944854e+06                            NaN   \n",
      "\n",
      "                            datetime       tempmax       tempmin  \\\n",
      "count                          48120  48120.000000  48120.000000   \n",
      "mean   2016-09-18 18:33:56.109725696     31.562793     19.238055   \n",
      "min              2015-11-01 00:00:00     14.700000      4.000000   \n",
      "25%              2016-04-16 00:00:00     25.800000     12.000000   \n",
      "50%              2016-09-30 00:00:00     32.200000     20.000000   \n",
      "75%              2017-02-25 00:00:00     37.200000     26.300000   \n",
      "max              2017-06-30 00:00:00     46.000000     34.400000   \n",
      "std                              NaN      7.092194      7.736948   \n",
      "\n",
      "               temp  feelslikemax  ...      windgust     windspeed  \\\n",
      "count  4.812000e+04  48120.000000  ...  48120.000000  4.812000e+04   \n",
      "mean  -3.213094e-16     33.614065  ...     29.801047 -9.450277e-17   \n",
      "min   -2.034524e+00     14.700000  ...     13.300000 -1.187009e+00   \n",
      "25%   -9.062465e-01     25.800000  ...     22.700000 -5.642973e-01   \n",
      "50%    2.085994e-01     33.700000  ...     28.800000 -8.219829e-02   \n",
      "75%    8.398977e-01     41.300000  ...     35.300000  3.095072e-01   \n",
      "max    1.914448e+00     53.600000  ...     64.800000  1.232181e+01   \n",
      "std    1.000010e+00      9.217998  ...      9.336404  1.000010e+00   \n",
      "\n",
      "            winddir  sealevelpressure    cloudcover    visibility  \\\n",
      "count  48120.000000      48120.000000  48120.000000  48120.000000   \n",
      "mean     215.657257       1009.214115     28.361446      2.444289   \n",
      "min        0.300000        996.100000      0.000000      0.100000   \n",
      "25%      108.900000       1003.000000      4.500000      1.600000   \n",
      "50%      273.400000       1009.600000     23.900000      2.700000   \n",
      "75%      291.600000       1015.400000     46.700000      3.200000   \n",
      "max      357.300000       1022.700000     96.600000      4.900000   \n",
      "std       99.122358          6.848964     25.812601      0.946047   \n",
      "\n",
      "       solarradiation   solarenergy       uvindex     moonphase  \n",
      "count    48120.000000  48120.000000  48120.000000  48120.000000  \n",
      "mean       222.813017     19.250923      7.728180      0.486279  \n",
      "min          0.000000      0.000000      0.000000      0.000000  \n",
      "25%        174.100000     15.000000      7.000000      0.250000  \n",
      "50%        219.800000     19.100000      8.000000      0.500000  \n",
      "75%        277.100000     23.900000      9.000000      0.750000  \n",
      "max        329.100000     28.500000     10.000000      0.980000  \n",
      "std         59.108954      5.113966      1.541926      0.290744  \n",
      "\n",
      "[8 rows x 29 columns]\n"
     ]
    }
   ],
   "source": [
    "print(merged_df.info())  # Check data types\n",
    "print(merged_df.describe())  # Summary statistics\n"
   ]
  },
  {
   "cell_type": "code",
   "execution_count": null,
   "id": "bf711fb9-3497-46f7-9185-61fcb9ce0a7e",
   "metadata": {},
   "outputs": [],
   "source": []
  },
  {
   "cell_type": "code",
   "execution_count": null,
   "id": "b8c2c427-cd9b-41b4-a5e9-86591c9f8da1",
   "metadata": {},
   "outputs": [],
   "source": [
    "merged_df['FinalDateTime'] = merged_df['DateTime'].combine_first(merged_df['Date']).combine_first(merged_df['datetime'])\n"
   ]
  },
  {
   "cell_type": "code",
   "execution_count": null,
   "id": "e0f3341a-9006-4c19-90e7-db85c858e7f5",
   "metadata": {},
   "outputs": [],
   "source": [
    "merged_df.drop(columns=['DateTime', 'Date', 'datetime'], inplace=True)\n"
   ]
  },
  {
   "cell_type": "code",
   "execution_count": 82,
   "id": "5f133e62-1841-4b27-9bc4-da8989a0bf2d",
   "metadata": {},
   "outputs": [],
   "source": [
    "#rearrenge the columns\n",
    "if 'FinalDateTime' in merged_df.columns:\n",
    "    # Reorder columns\n",
    "    cols = ['FinalDateTime'] + [col for col in merged_df.columns if col != 'FinalDateTime']\n",
    "    merged_df = merged_df[cols]\n"
   ]
  },
  {
   "cell_type": "code",
   "execution_count": 86,
   "id": "a6b0c95a-3f9f-47c0-ba6f-e89396f94785",
   "metadata": {},
   "outputs": [],
   "source": [
    "merged_df['preciptype'] = merged_df['preciptype'].fillna(\"No Precipitation\")\n"
   ]
  },
  {
   "cell_type": "code",
   "execution_count": 90,
   "id": "397bb26a-3bc2-414e-911c-a30788b5a12a",
   "metadata": {},
   "outputs": [],
   "source": [
    "merged_df.to_excel(r\"C:\\\\Users\\\\PC\\\\Desktop\\\\merged_data.xlsx\", index=False)\n"
   ]
  },
  {
   "cell_type": "code",
   "execution_count": null,
   "id": "5acf5e35-f7ba-4b01-ac2e-89f60dbeed37",
   "metadata": {},
   "outputs": [],
   "source": []
  },
  {
   "cell_type": "code",
   "execution_count": null,
   "id": "f4e2b69c-a877-48f8-b916-c20fbc8acb41",
   "metadata": {},
   "outputs": [],
   "source": []
  },
  {
   "cell_type": "code",
   "execution_count": null,
   "id": "a7acc60d-4160-40b0-bbf1-5beb581a1858",
   "metadata": {},
   "outputs": [],
   "source": []
  }
 ],
 "metadata": {
  "kernelspec": {
   "display_name": "Python 3 (ipykernel)",
   "language": "python",
   "name": "python3"
  },
  "language_info": {
   "codemirror_mode": {
    "name": "ipython",
    "version": 3
   },
   "file_extension": ".py",
   "mimetype": "text/x-python",
   "name": "python",
   "nbconvert_exporter": "python",
   "pygments_lexer": "ipython3",
   "version": "3.12.4"
  }
 },
 "nbformat": 4,
 "nbformat_minor": 5
}
